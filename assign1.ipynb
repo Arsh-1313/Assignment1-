{
 "cells": [
  {
   "cell_type": "markdown",
   "id": "6eb06126-7d34-4403-9b84-a8ce6a82c47d",
   "metadata": {},
   "source": [
    "Ques 1: Create one variable containing following type of data:\n",
    " (i) string\n",
    " (ii) list\n",
    " (iii) float\n",
    " (iv) tuple\n"
   ]
  },
  {
   "cell_type": "markdown",
   "id": "82d9a1ab-f847-4a04-968f-6c0b9d47f83e",
   "metadata": {},
   "source": [
    "Answer:\n",
    "(i) a=\"hello\"\n",
    "(ii) b=[2,45,'arsh']\n",
    "(iii)c=8.0\n",
    "(iv)d=(\"arsh\",1313,\"deep\")"
   ]
  },
  {
   "cell_type": "markdown",
   "id": "c3cfe3fe-f0e8-4e5e-aded-6f40bdb79da1",
   "metadata": {},
   "source": [
    "Ques 2: Given are some following variables containing data:\n",
    " (i) var1 = ‘ ‘\n",
    " (ii) var2 = ‘[ DS , ML , Python]’\n",
    " (iii) var3 = [ ‘DS’ , ’ML’ , ‘Python’ ]\n",
    " (iv) var4 = 1.\n",
    " What will be the data type of the above given variable."
   ]
  },
  {
   "cell_type": "markdown",
   "id": "d805c343-5a33-4e9b-b6c7-6c97926ce7a5",
   "metadata": {},
   "source": [
    "Answer:\n",
    "(i) string\n",
    "(ii) string\n",
    "(iii) list\n",
    "(iv) float"
   ]
  },
  {
   "cell_type": "markdown",
   "id": "167674f7-bbb2-45ec-9a0b-32608e0e6770",
   "metadata": {},
   "source": [
    "Ques 3: Explain the use of the following operators using an example:\n",
    "(i) /\n",
    "(ii) % \n",
    "(iii) //\n",
    "(iv) **"
   ]
  },
  {
   "cell_type": "code",
   "execution_count": null,
   "id": "93b8cf7f-5b35-464a-9372-89e34434ccbc",
   "metadata": {},
   "outputs": [],
   "source": [
    "Answer:                         \n",
    "(i) a = 11/2      =>  5.5             helps to divide the numbers and can gives values in decimal\n",
    "(ii) a = 10 % 2   =>  0               gives the remainder of the numbers\n",
    "(iii) a = 11 // 2 =>  5               helps to divide the numbers but it doesnot gives values in decimal\n",
    "(iv) a = 10**2    =>  100             it helps to find the no. of power of any number         "
   ]
  },
  {
   "cell_type": "markdown",
   "id": "8be06c4e-8db0-4d59-bf8f-e6d7fe60b7b2",
   "metadata": {},
   "source": [
    "Ques 4: Create a list of length 10 of your choice containing multiple types of data. Using for loop print the \n",
    "element and its data type."
   ]
  },
  {
   "cell_type": "code",
   "execution_count": null,
   "id": "3a6cbca0-c20e-4ca4-bed8-bfc1c653dfa1",
   "metadata": {},
   "outputs": [],
   "source": [
    "Answer:"
   ]
  },
  {
   "cell_type": "code",
   "execution_count": null,
   "id": "c3f4a758-f0d5-4a3b-940a-fc37d7601aeb",
   "metadata": {},
   "outputs": [],
   "source": [
    "l=[\"arsh\",13,45,18,6,7,True,10.5,\"hello\",False]\n",
    "for i in l:\n",
    "    if type(i)==str:\n",
    "        print(i,\"is of data type\",type(i))\n",
    "    elif type(i)==bool:\n",
    "        print(i,\"is of data type\",type(i))\n",
    "    else:\n",
    "        print(i,\"is of data type\",type(i))\n",
    "        "
   ]
  },
  {
   "cell_type": "markdown",
   "id": "d903c765-1921-4d53-a4f1-cb36bf07b289",
   "metadata": {},
   "source": [
    "Ques 5. Using a while loop, verify if the number A is purely divisible by number B and if so then how many \n",
    "times it can be divisible."
   ]
  },
  {
   "cell_type": "code",
   "execution_count": 2,
   "id": "521b5857-a650-4192-bae8-f53c1d6546e3",
   "metadata": {},
   "outputs": [
    {
     "name": "stdin",
     "output_type": "stream",
     "text": [
      "enter the number:  102\n",
      "enter the number:  10\n"
     ]
    },
    {
     "name": "stdout",
     "output_type": "stream",
     "text": [
      "It is divisible at 17\n",
      "It is divisible at 34\n",
      "It is divisible at 51\n",
      "It is divisible at 102\n",
      "Number of times it is divisible  4\n"
     ]
    }
   ],
   "source": [
    "x=0\n",
    "A=int(input(\"enter the number: \"))\n",
    "B=int(input(\"enter the number: \"))\n",
    "while A>=B:\n",
    "    if A%B==0:\n",
    "        print(\"It is divisible at\",B)\n",
    "        x=x+1\n",
    "    B=B+1\n",
    "print(\"Number of times it is divisible \",x)"
   ]
  },
  {
   "cell_type": "markdown",
   "id": "128cff73-c8e1-4650-ad86-0aa273a87bce",
   "metadata": {},
   "source": [
    "Ques 6: Create a list containing 25 int type data. Using for loop and if-else condition print if the element is \n",
    "divisible by 3 or not."
   ]
  },
  {
   "cell_type": "code",
   "execution_count": 6,
   "id": "223250c1-d7dd-491f-8745-b3279a6ac64b",
   "metadata": {},
   "outputs": [
    {
     "name": "stdout",
     "output_type": "stream",
     "text": [
      "3 is divisible by 3\n",
      "4 is not divisible by 3\n",
      "5 is not divisible by 3\n",
      "6 is divisible by 3\n",
      "7 is not divisible by 3\n",
      "8 is not divisible by 3\n",
      "9 is divisible by 3\n",
      "10 is not divisible by 3\n",
      "11 is not divisible by 3\n",
      "12 is divisible by 3\n",
      "13 is not divisible by 3\n",
      "14 is not divisible by 3\n",
      "15 is divisible by 3\n",
      "16 is not divisible by 3\n",
      "17 is not divisible by 3\n",
      "18 is divisible by 3\n",
      "19 is not divisible by 3\n",
      "20 is not divisible by 3\n",
      "21 is divisible by 3\n",
      "22 is not divisible by 3\n",
      "23 is not divisible by 3\n",
      "24 is divisible by 3\n",
      "25 is not divisible by 3\n"
     ]
    }
   ],
   "source": [
    "L=[1,2,3,4,5,6,7,8,9,10,11,12,13,14,15,16,17,18,19,20,21,22,23,24,25]\n",
    "for i in L:\n",
    "    if i==1 or i==2:\n",
    "        continue\n",
    "    if i%3==0:\n",
    "        print(i,\"is divisible by 3\")\n",
    "    else:\n",
    "        print(i,\"is not divisible by 3\")"
   ]
  },
  {
   "cell_type": "markdown",
   "id": "8835f767-8e81-4917-8085-5b39482eda6b",
   "metadata": {},
   "source": [
    "Q7. What do you understand about mutable and immutable data types? Give examples for both showing \n",
    "this property."
   ]
  },
  {
   "cell_type": "markdown",
   "id": "4fffd62a-90d4-4b25-9fc9-1a4f036b7a16",
   "metadata": {},
   "source": [
    "immutable:- Immutable Objects are in-built datatypes that can’t be changed after it is created.\n",
    "Example:-"
   ]
  },
  {
   "cell_type": "code",
   "execution_count": null,
   "id": "2273ba5c-b35e-4d14-9219-06f607b9114d",
   "metadata": {},
   "outputs": [],
   "source": [
    "t = (0, 1, 2, 3)\n",
    "t[0] = 4\n",
    "print(t)"
   ]
  },
  {
   "cell_type": "markdown",
   "id": "dd3133ed-e3e2-48ae-9f26-4dd4f335d374",
   "metadata": {},
   "source": [
    "Mutable:-mutable Objects are in-built datatypes that can be changed after it is created\n",
    "Example:-"
   ]
  },
  {
   "cell_type": "code",
   "execution_count": null,
   "id": "511c2d28-9933-43f5-92fb-435231d1357b",
   "metadata": {},
   "outputs": [],
   "source": [
    "color = [\"red\", \"blue\", \"green\"]\n",
    "print(color)\n",
    " \n",
    "color[0] = \"pink\"\n",
    "color[-1] = \"orange\"\n",
    "print(color)"
   ]
  }
 ],
 "metadata": {
  "kernelspec": {
   "display_name": "Python 3 (ipykernel)",
   "language": "python",
   "name": "python3"
  },
  "language_info": {
   "codemirror_mode": {
    "name": "ipython",
    "version": 3
   },
   "file_extension": ".py",
   "mimetype": "text/x-python",
   "name": "python",
   "nbconvert_exporter": "python",
   "pygments_lexer": "ipython3",
   "version": "3.10.8"
  }
 },
 "nbformat": 4,
 "nbformat_minor": 5
}
